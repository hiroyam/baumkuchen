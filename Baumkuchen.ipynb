{
 "cells": [
  {
   "cell_type": "code",
   "execution_count": 1,
   "metadata": {
    "ExecuteTime": {
     "end_time": "2018-12-07T13:49:42.836934Z",
     "start_time": "2018-12-07T13:49:42.605838Z"
    },
    "collapsed": true
   },
   "outputs": [],
   "source": [
    "import pandas as pd\n",
    "import numpy as np"
   ]
  },
  {
   "cell_type": "code",
   "execution_count": 2,
   "metadata": {
    "ExecuteTime": {
     "end_time": "2018-12-07T13:49:42.843490Z",
     "start_time": "2018-12-07T13:49:42.838378Z"
    }
   },
   "outputs": [
    {
     "name": "stdout",
     "output_type": "stream",
     "text": [
      "1.0.12\n"
     ]
    }
   ],
   "source": [
    "import baumkuchen\n",
    "baumkuchen.version()"
   ]
  },
  {
   "cell_type": "code",
   "execution_count": 3,
   "metadata": {
    "ExecuteTime": {
     "end_time": "2018-12-07T13:49:42.884315Z",
     "start_time": "2018-12-07T13:49:42.845589Z"
    }
   },
   "outputs": [
    {
     "data": {
      "text/html": [
       "<div>\n",
       "<style>\n",
       "    .dataframe thead tr:only-child th {\n",
       "        text-align: right;\n",
       "    }\n",
       "\n",
       "    .dataframe thead th {\n",
       "        text-align: left;\n",
       "    }\n",
       "\n",
       "    .dataframe tbody tr th {\n",
       "        vertical-align: top;\n",
       "    }\n",
       "</style>\n",
       "<table border=\"1\" class=\"dataframe\">\n",
       "  <thead>\n",
       "    <tr style=\"text-align: right;\">\n",
       "      <th></th>\n",
       "      <th>a</th>\n",
       "      <th>b</th>\n",
       "      <th>c</th>\n",
       "      <th>d</th>\n",
       "      <th>e</th>\n",
       "      <th>f</th>\n",
       "      <th>g</th>\n",
       "      <th>h</th>\n",
       "      <th>i</th>\n",
       "      <th>j</th>\n",
       "    </tr>\n",
       "  </thead>\n",
       "  <tbody>\n",
       "    <tr>\n",
       "      <th>0</th>\n",
       "      <td>NaN</td>\n",
       "      <td>1.0</td>\n",
       "      <td>1.0</td>\n",
       "      <td>1.0</td>\n",
       "      <td>1</td>\n",
       "      <td>1</td>\n",
       "      <td>D</td>\n",
       "      <td>D</td>\n",
       "      <td>D</td>\n",
       "      <td>A</td>\n",
       "    </tr>\n",
       "    <tr>\n",
       "      <th>1</th>\n",
       "      <td>NaN</td>\n",
       "      <td>3.0</td>\n",
       "      <td>3.0</td>\n",
       "      <td>3.0</td>\n",
       "      <td>3</td>\n",
       "      <td>3</td>\n",
       "      <td>E</td>\n",
       "      <td>D</td>\n",
       "      <td>E</td>\n",
       "      <td>B</td>\n",
       "    </tr>\n",
       "    <tr>\n",
       "      <th>2</th>\n",
       "      <td>NaN</td>\n",
       "      <td>NaN</td>\n",
       "      <td>3.0</td>\n",
       "      <td>3.0</td>\n",
       "      <td>3</td>\n",
       "      <td>3</td>\n",
       "      <td>E</td>\n",
       "      <td>D</td>\n",
       "      <td>E</td>\n",
       "      <td>B</td>\n",
       "    </tr>\n",
       "    <tr>\n",
       "      <th>3</th>\n",
       "      <td>NaN</td>\n",
       "      <td>2.0</td>\n",
       "      <td>3.0</td>\n",
       "      <td>3.0</td>\n",
       "      <td>3</td>\n",
       "      <td>3</td>\n",
       "      <td>E</td>\n",
       "      <td>A</td>\n",
       "      <td>E</td>\n",
       "      <td>B</td>\n",
       "    </tr>\n",
       "    <tr>\n",
       "      <th>4</th>\n",
       "      <td>NaN</td>\n",
       "      <td>3.0</td>\n",
       "      <td>3.0</td>\n",
       "      <td>3.0</td>\n",
       "      <td>3</td>\n",
       "      <td>3</td>\n",
       "      <td>E</td>\n",
       "      <td>E</td>\n",
       "      <td>E</td>\n",
       "      <td>B</td>\n",
       "    </tr>\n",
       "    <tr>\n",
       "      <th>5</th>\n",
       "      <td>NaN</td>\n",
       "      <td>3.0</td>\n",
       "      <td>3.0</td>\n",
       "      <td>NaN</td>\n",
       "      <td>3</td>\n",
       "      <td>3</td>\n",
       "      <td>E</td>\n",
       "      <td>C</td>\n",
       "      <td>E</td>\n",
       "      <td>B</td>\n",
       "    </tr>\n",
       "    <tr>\n",
       "      <th>6</th>\n",
       "      <td>NaN</td>\n",
       "      <td>3.0</td>\n",
       "      <td>NaN</td>\n",
       "      <td>3.0</td>\n",
       "      <td>3</td>\n",
       "      <td>3</td>\n",
       "      <td>E</td>\n",
       "      <td>H</td>\n",
       "      <td>E</td>\n",
       "      <td>B</td>\n",
       "    </tr>\n",
       "    <tr>\n",
       "      <th>7</th>\n",
       "      <td>NaN</td>\n",
       "      <td>5.0</td>\n",
       "      <td>NaN</td>\n",
       "      <td>5.0</td>\n",
       "      <td>5</td>\n",
       "      <td>5</td>\n",
       "      <td>E</td>\n",
       "      <td>E</td>\n",
       "      <td>E</td>\n",
       "      <td>B</td>\n",
       "    </tr>\n",
       "    <tr>\n",
       "      <th>8</th>\n",
       "      <td>NaN</td>\n",
       "      <td>4.0</td>\n",
       "      <td>4.0</td>\n",
       "      <td>4.0</td>\n",
       "      <td>4</td>\n",
       "      <td>4</td>\n",
       "      <td>NaN</td>\n",
       "      <td>E</td>\n",
       "      <td>E</td>\n",
       "      <td>B</td>\n",
       "    </tr>\n",
       "    <tr>\n",
       "      <th>9</th>\n",
       "      <td>NaN</td>\n",
       "      <td>7.0</td>\n",
       "      <td>7.0</td>\n",
       "      <td>7.0</td>\n",
       "      <td>7</td>\n",
       "      <td>7</td>\n",
       "      <td>E</td>\n",
       "      <td>E</td>\n",
       "      <td>E</td>\n",
       "      <td>NaN</td>\n",
       "    </tr>\n",
       "  </tbody>\n",
       "</table>\n",
       "</div>"
      ],
      "text/plain": [
       "    a    b    c    d  e  f    g  h  i    j\n",
       "0 NaN  1.0  1.0  1.0  1  1    D  D  D    A\n",
       "1 NaN  3.0  3.0  3.0  3  3    E  D  E    B\n",
       "2 NaN  NaN  3.0  3.0  3  3    E  D  E    B\n",
       "3 NaN  2.0  3.0  3.0  3  3    E  A  E    B\n",
       "4 NaN  3.0  3.0  3.0  3  3    E  E  E    B\n",
       "5 NaN  3.0  3.0  NaN  3  3    E  C  E    B\n",
       "6 NaN  3.0  NaN  3.0  3  3    E  H  E    B\n",
       "7 NaN  5.0  NaN  5.0  5  5    E  E  E    B\n",
       "8 NaN  4.0  4.0  4.0  4  4  NaN  E  E    B\n",
       "9 NaN  7.0  7.0  7.0  7  7    E  E  E  NaN"
      ]
     },
     "execution_count": 3,
     "metadata": {},
     "output_type": "execute_result"
    }
   ],
   "source": [
    "df = pd.DataFrame([\n",
    "    [np.nan,1,1,1,1,1,'D','D','D','A'],\n",
    "    [np.nan,3,3,3,3,3,'E','D','E','B'],\n",
    "    [np.nan,np.nan,3,3,3,3,'E','D','E','B'],\n",
    "    [np.nan,2,3,3,3,3,'E','A','E','B'],\n",
    "    [np.nan,3,3,3,3,3,'E','E','E','B'],\n",
    "    [np.nan,3,3,np.nan,3,3,'E','C','E','B'],\n",
    "    [np.nan,3,np.nan,3,3,3,'E','H','E','B'],\n",
    "    [np.nan,5,np.nan,5,5,5,'E','E','E','B'],\n",
    "    [np.nan,4,4,4,4,4,np.nan,'E','E','B'],\n",
    "    [np.nan,7,7,7,7,7,'E','E','E',np.nan],\n",
    "    ])\n",
    "df.columns = ['a', 'b', 'c', 'd', 'e', 'f', 'g', 'h', 'i', 'j']\n",
    "df"
   ]
  },
  {
   "cell_type": "code",
   "execution_count": 4,
   "metadata": {
    "ExecuteTime": {
     "end_time": "2018-12-07T13:49:42.902569Z",
     "start_time": "2018-12-07T13:49:42.885745Z"
    }
   },
   "outputs": [
    {
     "name": "stdout",
     "output_type": "stream",
     "text": [
      "   a    b    c    d  e  f    g  h  i    j\n",
      "0  @  1.0  1.0  1.0  1  1    D  D  D    A\n",
      "1  @  3.0  3.0  3.0  3  3    E  D  E    B\n",
      "2  @  NaN  3.0  3.0  3  3    E  D  E    B\n",
      "3  @  2.0  3.0  3.0  3  3    E  A  E    B\n",
      "4  @  3.0  3.0  3.0  3  3    E  E  E    B\n",
      "5  @  3.0  3.0  NaN  3  3    E  C  E    B\n",
      "6  @  3.0  NaN  3.0  3  3    E  H  E    B\n",
      "7  @  5.0  NaN  5.0  5  5    E  E  E    B\n",
      "8  @  4.0  4.0  4.0  4  4  NaN  E  E    B\n",
      "9  @  7.0  7.0  7.0  7  7    E  E  E  NaN\n"
     ]
    }
   ],
   "source": [
    "# 100% nan のカラムを@で埋める\n",
    "print(baumkuchen.empty(df))"
   ]
  },
  {
   "cell_type": "code",
   "execution_count": 5,
   "metadata": {
    "ExecuteTime": {
     "end_time": "2018-12-07T13:49:42.926065Z",
     "start_time": "2018-12-07T13:49:42.904401Z"
    }
   },
   "outputs": [
    {
     "name": "stdout",
     "output_type": "stream",
     "text": [
      "    a    b    c    d  e  f         g           h  i         j\n",
      "0 NaN  1.0  1.0  1.0  1  1         D           D  D         A\n",
      "1 NaN  3.0  3.0  3.0  3  3         E           D  E         B\n",
      "2 NaN  NaN  3.0  3.0  3  3         E           D  E         B\n",
      "3 NaN  2.0  3.0  3.0  3  3         E           A  E         B\n",
      "4 NaN  3.0  3.0  3.0  3  3         E           E  E         B\n",
      "5 NaN  3.0  3.0  NaN  3  3         E  @.MINORITY  E         B\n",
      "6 NaN  3.0  NaN  3.0  3  3         E  @.MINORITY  E         B\n",
      "7 NaN  5.0  NaN  5.0  5  5         E           E  E         B\n",
      "8 NaN  4.0  4.0  4.0  4  4  @.FILLED           E  E         B\n",
      "9 NaN  7.0  7.0  7.0  7  7         E           E  E  @.FILLED\n"
     ]
    }
   ],
   "source": [
    "# カテゴリ型のカラムを上位thresholdカテゴリのみ残して @MINORITY で埋め、nanは @FILLED で埋める\n",
    "print(baumkuchen.categorical(df, 'd'))"
   ]
  },
  {
   "cell_type": "code",
   "execution_count": 6,
   "metadata": {
    "ExecuteTime": {
     "end_time": "2018-12-07T13:49:42.951455Z",
     "start_time": "2018-12-07T13:49:42.927445Z"
    }
   },
   "outputs": [
    {
     "name": "stdout",
     "output_type": "stream",
     "text": [
      "     g  h  i    j   a    a@         b     b@      c     c@         d     d@  \\\n",
      "0    D  D  D    A NaN  True  1.000000  False  1.000  False  1.000000  False   \n",
      "1    E  D  E    B NaN  True  3.000000  False  3.000  False  3.000000  False   \n",
      "2    E  D  E    B NaN  True  3.444444   True  3.000  False  3.000000  False   \n",
      "3    E  A  E    B NaN  True  2.000000  False  3.000  False  3.000000  False   \n",
      "4    E  E  E    B NaN  True  3.000000  False  3.000  False  3.000000  False   \n",
      "5    E  C  E    B NaN  True  3.000000  False  3.000  False  3.555556   True   \n",
      "6    E  H  E    B NaN  True  3.000000  False  3.375   True  3.000000  False   \n",
      "7    E  E  E    B NaN  True  5.000000  False  3.375   True  5.000000  False   \n",
      "8  NaN  E  E    B NaN  True  4.000000  False  4.000  False  4.000000  False   \n",
      "9    E  E  E  NaN NaN  True  7.000000  False  7.000  False  7.000000  False   \n",
      "\n",
      "   e     e@  f     f@  \n",
      "0  1  False  1  False  \n",
      "1  3  False  3  False  \n",
      "2  3  False  3  False  \n",
      "3  3  False  3  False  \n",
      "4  3  False  3  False  \n",
      "5  3  False  3  False  \n",
      "6  3  False  3  False  \n",
      "7  5  False  5  False  \n",
      "8  4  False  4  False  \n",
      "9  7  False  7  False  \n"
     ]
    }
   ],
   "source": [
    "# 数値型のカラムを平均値で埋め、埋めた場所がわかるように新たなカラムを追加する\n",
    "print(baumkuchen.numerical(df))"
   ]
  }
 ],
 "metadata": {
  "gist": {
   "data": {
    "description": "Untitled.ipynb",
    "public": false
   },
   "id": ""
  },
  "kernelspec": {
   "display_name": "Python 3",
   "language": "python",
   "name": "python3"
  },
  "language_info": {
   "codemirror_mode": {
    "name": "ipython",
    "version": 3
   },
   "file_extension": ".py",
   "mimetype": "text/x-python",
   "name": "python",
   "nbconvert_exporter": "python",
   "pygments_lexer": "ipython3",
   "version": "3.6.3"
  }
 },
 "nbformat": 4,
 "nbformat_minor": 2
}
